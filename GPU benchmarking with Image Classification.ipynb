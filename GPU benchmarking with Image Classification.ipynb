{
 "cells": [
  {
   "cell_type": "code",
   "execution_count": 1,
   "id": "f26e1c71",
   "metadata": {},
   "outputs": [
    {
     "name": "stdout",
     "output_type": "stream",
     "text": [
      "WARNING:tensorflow:From C:\\Users\\anubhav\\AppData\\Roaming\\Python\\Python311\\site-packages\\keras\\src\\losses.py:2976: The name tf.losses.sparse_softmax_cross_entropy is deprecated. Please use tf.compat.v1.losses.sparse_softmax_cross_entropy instead.\n",
      "\n"
     ]
    }
   ],
   "source": [
    "import tensorflow as tf\n",
    "from tensorflow import keras\n",
    "import matplotlib.pyplot as plt\n",
    "%matplotlib inline\n",
    "import numpy as np"
   ]
  },
  {
   "cell_type": "code",
   "execution_count": 2,
   "id": "725ab1d1",
   "metadata": {},
   "outputs": [
    {
     "data": {
      "text/plain": [
       "[PhysicalDevice(name='/physical_device:CPU:0', device_type='CPU')]"
      ]
     },
     "execution_count": 2,
     "metadata": {},
     "output_type": "execute_result"
    }
   ],
   "source": [
    "tf.config.list_physical_devices()"
   ]
  },
  {
   "cell_type": "code",
   "execution_count": 3,
   "id": "d4945c1c",
   "metadata": {},
   "outputs": [
    {
     "data": {
      "text/plain": [
       "False"
      ]
     },
     "execution_count": 3,
     "metadata": {},
     "output_type": "execute_result"
    }
   ],
   "source": [
    "tf.test.is_built_with_cuda()"
   ]
  },
  {
   "cell_type": "code",
   "execution_count": 4,
   "id": "98b4ce7e",
   "metadata": {},
   "outputs": [],
   "source": [
    "(x_train, y_train), (x_test, y_test) = tf.keras.datasets.cifar10.load_data()"
   ]
  },
  {
   "cell_type": "code",
   "execution_count": 5,
   "id": "1c6412f6",
   "metadata": {},
   "outputs": [
    {
     "data": {
      "text/plain": [
       "(50000, 32, 32, 3)"
      ]
     },
     "execution_count": 5,
     "metadata": {},
     "output_type": "execute_result"
    }
   ],
   "source": [
    "x_train.shape"
   ]
  },
  {
   "cell_type": "code",
   "execution_count": 6,
   "id": "162731ad",
   "metadata": {},
   "outputs": [
    {
     "data": {
      "text/plain": [
       "array([[ 59,  62,  63],\n",
       "       [ 43,  46,  45],\n",
       "       [ 50,  48,  43],\n",
       "       [ 68,  54,  42],\n",
       "       [ 98,  73,  52],\n",
       "       [119,  91,  63],\n",
       "       [139, 107,  75],\n",
       "       [145, 110,  80],\n",
       "       [149, 117,  89],\n",
       "       [149, 120,  93],\n",
       "       [131, 103,  77],\n",
       "       [125,  99,  76],\n",
       "       [142, 115,  91],\n",
       "       [144, 112,  86],\n",
       "       [137, 105,  79],\n",
       "       [129,  97,  71],\n",
       "       [137, 106,  79],\n",
       "       [134, 106,  76],\n",
       "       [124,  97,  64],\n",
       "       [139, 113,  78],\n",
       "       [139, 112,  75],\n",
       "       [133, 105,  69],\n",
       "       [136, 105,  74],\n",
       "       [139, 108,  77],\n",
       "       [152, 120,  89],\n",
       "       [163, 131, 100],\n",
       "       [168, 136, 108],\n",
       "       [159, 129, 102],\n",
       "       [158, 130, 104],\n",
       "       [158, 132, 108],\n",
       "       [152, 125, 102],\n",
       "       [148, 124, 103]], dtype=uint8)"
      ]
     },
     "execution_count": 6,
     "metadata": {},
     "output_type": "execute_result"
    }
   ],
   "source": [
    "x_train[0][0]"
   ]
  },
  {
   "cell_type": "code",
   "execution_count": 7,
   "id": "afbd1587",
   "metadata": {},
   "outputs": [
    {
     "data": {
      "text/plain": [
       "array([[6],\n",
       "       [9],\n",
       "       [9],\n",
       "       [4],\n",
       "       [1]], dtype=uint8)"
      ]
     },
     "execution_count": 7,
     "metadata": {},
     "output_type": "execute_result"
    }
   ],
   "source": [
    "y_train[0:5]"
   ]
  },
  {
   "cell_type": "code",
   "execution_count": 8,
   "id": "f8474dad",
   "metadata": {},
   "outputs": [],
   "source": [
    "def plotsample(index):\n",
    "    plt.figure(figsize = (10,1))\n",
    "    plt.imshow(x_train[index])"
   ]
  },
  {
   "cell_type": "code",
   "execution_count": 9,
   "id": "9274e7e0",
   "metadata": {},
   "outputs": [
    {
     "data": {
      "image/png": "[encoded data removed]",
      "text/plain": [
       "<Figure size 1000x100 with 1 Axes>"
      ]
     },
     "metadata": {},
     "output_type": "display_data"
    }
   ],
   "source": [
    "plotsample(0)"
   ]
  },
  {
   "cell_type": "code",
   "execution_count": 10,
   "id": "d6aa3ab1",
   "metadata": {},
   "outputs": [],
   "source": [
    "classes = [\"airplane\", \"automobile\", \"bird\", \"cat\", \"deer\", \"dog\", \"frog\", \"horse\", \"ship\", \"truck\"]"
   ]
  },
  {
   "cell_type": "code",
   "execution_count": 11,
   "id": "46daf593",
   "metadata": {},
   "outputs": [
    {
     "data": {
      "text/plain": [
       "array([6], dtype=uint8)"
      ]
     },
     "execution_count": 11,
     "metadata": {},
     "output_type": "execute_result"
    }
   ],
   "source": [
    "y_train[0]"
   ]
  },
  {
   "cell_type": "code",
   "execution_count": 12,
   "id": "4d3f2560",
   "metadata": {},
   "outputs": [
    {
     "data": {
      "text/plain": [
       "'frog'"
      ]
     },
     "execution_count": 12,
     "metadata": {},
     "output_type": "execute_result"
    }
   ],
   "source": [
    "classes[y_train[0][0]]"
   ]
  },
  {
   "cell_type": "code",
   "execution_count": 13,
   "id": "a3fea24a",
   "metadata": {},
   "outputs": [],
   "source": [
    "x_train_scaled = x_train/255\n",
    "x_test_scaled = x_test/255"
   ]
  },
  {
   "cell_type": "code",
   "execution_count": 14,
   "id": "d8892b2a",
   "metadata": {},
   "outputs": [
    {
     "data": {
      "text/plain": [
       "array([[0.23137255, 0.24313725, 0.24705882],\n",
       "       [0.16862745, 0.18039216, 0.17647059],\n",
       "       [0.19607843, 0.18823529, 0.16862745],\n",
       "       [0.26666667, 0.21176471, 0.16470588],\n",
       "       [0.38431373, 0.28627451, 0.20392157],\n",
       "       [0.46666667, 0.35686275, 0.24705882],\n",
       "       [0.54509804, 0.41960784, 0.29411765],\n",
       "       [0.56862745, 0.43137255, 0.31372549],\n",
       "       [0.58431373, 0.45882353, 0.34901961],\n",
       "       [0.58431373, 0.47058824, 0.36470588],\n",
       "       [0.51372549, 0.40392157, 0.30196078],\n",
       "       [0.49019608, 0.38823529, 0.29803922],\n",
       "       [0.55686275, 0.45098039, 0.35686275],\n",
       "       [0.56470588, 0.43921569, 0.3372549 ],\n",
       "       [0.5372549 , 0.41176471, 0.30980392],\n",
       "       [0.50588235, 0.38039216, 0.27843137],\n",
       "       [0.5372549 , 0.41568627, 0.30980392],\n",
       "       [0.5254902 , 0.41568627, 0.29803922],\n",
       "       [0.48627451, 0.38039216, 0.25098039],\n",
       "       [0.54509804, 0.44313725, 0.30588235],\n",
       "       [0.54509804, 0.43921569, 0.29411765],\n",
       "       [0.52156863, 0.41176471, 0.27058824],\n",
       "       [0.53333333, 0.41176471, 0.29019608],\n",
       "       [0.54509804, 0.42352941, 0.30196078],\n",
       "       [0.59607843, 0.47058824, 0.34901961],\n",
       "       [0.63921569, 0.51372549, 0.39215686],\n",
       "       [0.65882353, 0.53333333, 0.42352941],\n",
       "       [0.62352941, 0.50588235, 0.4       ],\n",
       "       [0.61960784, 0.50980392, 0.40784314],\n",
       "       [0.61960784, 0.51764706, 0.42352941],\n",
       "       [0.59607843, 0.49019608, 0.4       ],\n",
       "       [0.58039216, 0.48627451, 0.40392157]])"
      ]
     },
     "execution_count": 14,
     "metadata": {},
     "output_type": "execute_result"
    }
   ],
   "source": [
    "x_train_scaled[0][0]"
   ]
  },
  {
   "cell_type": "code",
   "execution_count": 15,
   "id": "e0302eaf",
   "metadata": {},
   "outputs": [
    {
     "data": {
      "text/plain": [
       "array([[6],\n",
       "       [9],\n",
       "       [9],\n",
       "       [4],\n",
       "       [1]], dtype=uint8)"
      ]
     },
     "execution_count": 15,
     "metadata": {},
     "output_type": "execute_result"
    }
   ],
   "source": [
    "y_train[:5]"
   ]
  },
  {
   "cell_type": "code",
   "execution_count": 16,
   "id": "bc1638b8",
   "metadata": {},
   "outputs": [],
   "source": [
    "y_train_categorical = keras.utils.to_categorical(\n",
    "    y_train, num_classes=10, dtype='float32'\n",
    ")"
   ]
  },
  {
   "cell_type": "code",
   "execution_count": 17,
   "id": "828d4765",
   "metadata": {},
   "outputs": [
    {
     "data": {
      "text/plain": [
       "array([[0., 0., 0., 0., 0., 0., 1., 0., 0., 0.],\n",
       "       [0., 0., 0., 0., 0., 0., 0., 0., 0., 1.],\n",
       "       [0., 0., 0., 0., 0., 0., 0., 0., 0., 1.],\n",
       "       [0., 0., 0., 0., 1., 0., 0., 0., 0., 0.],\n",
       "       [0., 1., 0., 0., 0., 0., 0., 0., 0., 0.]], dtype=float32)"
      ]
     },
     "execution_count": 17,
     "metadata": {},
     "output_type": "execute_result"
    }
   ],
   "source": [
    "y_train_categorical[0:5]"
   ]
  },
  {
   "cell_type": "code",
   "execution_count": 18,
   "id": "4e56106d",
   "metadata": {},
   "outputs": [
    {
     "data": {
      "text/plain": [
       "3072"
      ]
     },
     "execution_count": 18,
     "metadata": {},
     "output_type": "execute_result"
    }
   ],
   "source": [
    "32*32*3"
   ]
  },
  {
   "cell_type": "code",
   "execution_count": 21,
   "id": "bece03c6",
   "metadata": {},
   "outputs": [],
   "source": [
    "model = keras.Sequential([\n",
    "    keras.layers.Flatten(input_shape=(32,32,3)),\n",
    "    keras.layers.Dense(3000, activation='relu'),\n",
    "    keras.layers.Dense(1000, activation='relu'),\n",
    "    keras.layers.Dense(10, activation='sigmoid')\n",
    "])\n",
    "\n",
    "model.compile(\n",
    "    optimizer='SGD',\n",
    "    loss='categorical_crossentropy',\n",
    "    metrics=['accuracy']\n",
    ")"
   ]
  },
  {
   "cell_type": "code",
   "execution_count": 22,
   "id": "6abc72e4",
   "metadata": {},
   "outputs": [
    {
     "name": "stdout",
     "output_type": "stream",
     "text": [
      "Epoch 1/50\n",
      "WARNING:tensorflow:From C:\\Users\\anubhav\\AppData\\Roaming\\Python\\Python311\\site-packages\\keras\\src\\utils\\tf_utils.py:492: The name tf.ragged.RaggedTensorValue is deprecated. Please use tf.compat.v1.ragged.RaggedTensorValue instead.\n",
      "\n",
      "WARNING:tensorflow:From C:\\Users\\anubhav\\AppData\\Roaming\\Python\\Python311\\site-packages\\keras\\src\\engine\\base_layer_utils.py:384: The name tf.executing_eagerly_outside_functions is deprecated. Please use tf.compat.v1.executing_eagerly_outside_functions instead.\n",
      "\n",
      "1563/1563 [==============================] - 52s 33ms/step - loss: 1.8097 - accuracy: 0.3543\n",
      "Epoch 2/50\n",
      "1563/1563 [==============================] - 54s 35ms/step - loss: 1.6171 - accuracy: 0.4300\n",
      "Epoch 3/50\n",
      "1563/1563 [==============================] - 50s 32ms/step - loss: 1.5383 - accuracy: 0.4567\n",
      "Epoch 4/50\n",
      "1563/1563 [==============================] - 54s 35ms/step - loss: 1.4786 - accuracy: 0.4792\n",
      "Epoch 5/50\n",
      "1563/1563 [==============================] - 54s 35ms/step - loss: 1.4296 - accuracy: 0.4976\n",
      "Epoch 6/50\n",
      "1563/1563 [==============================] - 51s 33ms/step - loss: 1.3851 - accuracy: 0.5147\n",
      "Epoch 7/50\n",
      "1563/1563 [==============================] - 51s 33ms/step - loss: 1.3467 - accuracy: 0.5250\n",
      "Epoch 8/50\n",
      "1563/1563 [==============================] - 52s 33ms/step - loss: 1.3111 - accuracy: 0.5393\n",
      "Epoch 9/50\n",
      "1563/1563 [==============================] - 51s 33ms/step - loss: 1.2815 - accuracy: 0.5521\n",
      "Epoch 10/50\n",
      "1563/1563 [==============================] - 55s 36ms/step - loss: 1.2485 - accuracy: 0.5630\n",
      "Epoch 11/50\n",
      "1563/1563 [==============================] - 51s 33ms/step - loss: 1.2194 - accuracy: 0.5737\n",
      "Epoch 12/50\n",
      "1563/1563 [==============================] - 50s 32ms/step - loss: 1.1891 - accuracy: 0.5837\n",
      "Epoch 13/50\n",
      "1563/1563 [==============================] - 52s 33ms/step - loss: 1.1625 - accuracy: 0.5942\n",
      "Epoch 14/50\n",
      "1563/1563 [==============================] - 50s 32ms/step - loss: 1.1355 - accuracy: 0.6032\n",
      "Epoch 15/50\n",
      "1563/1563 [==============================] - 51s 32ms/step - loss: 1.1050 - accuracy: 0.6164\n",
      "Epoch 16/50\n",
      "1563/1563 [==============================] - 52s 34ms/step - loss: 1.0793 - accuracy: 0.6233\n",
      "Epoch 17/50\n",
      "1563/1563 [==============================] - 50s 32ms/step - loss: 1.0544 - accuracy: 0.6340\n",
      "Epoch 18/50\n",
      "1563/1563 [==============================] - 50s 32ms/step - loss: 1.0265 - accuracy: 0.6424\n",
      "Epoch 19/50\n",
      "1563/1563 [==============================] - 50s 32ms/step - loss: 1.0050 - accuracy: 0.6529\n",
      "Epoch 20/50\n",
      "1563/1563 [==============================] - 51s 33ms/step - loss: 0.9761 - accuracy: 0.6618\n",
      "Epoch 21/50\n",
      "1563/1563 [==============================] - 51s 32ms/step - loss: 0.9502 - accuracy: 0.6698\n",
      "Epoch 22/50\n",
      "1563/1563 [==============================] - 51s 33ms/step - loss: 0.9269 - accuracy: 0.6799\n",
      "Epoch 23/50\n",
      "1563/1563 [==============================] - 51s 33ms/step - loss: 0.8998 - accuracy: 0.6877\n",
      "Epoch 24/50\n",
      "1563/1563 [==============================] - 54s 34ms/step - loss: 0.8775 - accuracy: 0.6986\n",
      "Epoch 25/50\n",
      "1563/1563 [==============================] - 53s 34ms/step - loss: 0.8513 - accuracy: 0.7083\n",
      "Epoch 26/50\n",
      "1563/1563 [==============================] - 51s 33ms/step - loss: 0.8239 - accuracy: 0.7172\n",
      "Epoch 27/50\n",
      "1563/1563 [==============================] - 50s 32ms/step - loss: 0.7982 - accuracy: 0.7249\n",
      "Epoch 28/50\n",
      "1563/1563 [==============================] - 51s 33ms/step - loss: 0.7739 - accuracy: 0.7346\n",
      "Epoch 29/50\n",
      "1563/1563 [==============================] - 52s 33ms/step - loss: 0.7490 - accuracy: 0.7456\n",
      "Epoch 30/50\n",
      "1563/1563 [==============================] - 50s 32ms/step - loss: 0.7258 - accuracy: 0.7537\n",
      "Epoch 31/50\n",
      "1563/1563 [==============================] - 50s 32ms/step - loss: 0.7004 - accuracy: 0.7637\n",
      "Epoch 32/50\n",
      "1563/1563 [==============================] - 50s 32ms/step - loss: 0.6721 - accuracy: 0.7744\n",
      "Epoch 33/50\n",
      "1563/1563 [==============================] - 51s 32ms/step - loss: 0.6496 - accuracy: 0.7808\n",
      "Epoch 34/50\n",
      "1563/1563 [==============================] - 52s 33ms/step - loss: 0.6284 - accuracy: 0.7880\n",
      "Epoch 35/50\n",
      "1563/1563 [==============================] - 51s 33ms/step - loss: 0.6032 - accuracy: 0.7977\n",
      "Epoch 36/50\n",
      "1563/1563 [==============================] - 51s 32ms/step - loss: 0.5790 - accuracy: 0.8105\n",
      "Epoch 37/50\n",
      "1563/1563 [==============================] - 51s 33ms/step - loss: 0.5527 - accuracy: 0.8169\n",
      "Epoch 38/50\n",
      "1563/1563 [==============================] - 52s 33ms/step - loss: 0.5311 - accuracy: 0.8259\n",
      "Epoch 39/50\n",
      "1563/1563 [==============================] - 51s 33ms/step - loss: 0.5078 - accuracy: 0.8333\n",
      "Epoch 40/50\n",
      "1563/1563 [==============================] - 53s 34ms/step - loss: 0.4865 - accuracy: 0.8416\n",
      "Epoch 41/50\n",
      "1563/1563 [==============================] - 52s 33ms/step - loss: 0.4641 - accuracy: 0.8510\n",
      "Epoch 42/50\n",
      "1563/1563 [==============================] - 53s 34ms/step - loss: 0.4425 - accuracy: 0.8570\n",
      "Epoch 43/50\n",
      "1563/1563 [==============================] - 53s 34ms/step - loss: 0.4202 - accuracy: 0.8656\n",
      "Epoch 44/50\n",
      "1563/1563 [==============================] - 52s 33ms/step - loss: 0.4010 - accuracy: 0.8727\n",
      "Epoch 45/50\n",
      "1563/1563 [==============================] - 52s 33ms/step - loss: 0.3834 - accuracy: 0.8784\n",
      "Epoch 46/50\n",
      "1563/1563 [==============================] - 50s 32ms/step - loss: 0.3643 - accuracy: 0.8860\n",
      "Epoch 47/50\n",
      "1563/1563 [==============================] - 51s 33ms/step - loss: 0.3432 - accuracy: 0.8938\n",
      "Epoch 48/50\n",
      "1563/1563 [==============================] - 50s 32ms/step - loss: 0.3247 - accuracy: 0.9010\n",
      "Epoch 49/50\n",
      "1563/1563 [==============================] - 51s 33ms/step - loss: 0.3075 - accuracy: 0.9060\n",
      "Epoch 50/50\n",
      "1563/1563 [==============================] - 49s 31ms/step - loss: 0.2919 - accuracy: 0.9136\n"
     ]
    },
    {
     "data": {
      "text/plain": [
       "<keras.src.callbacks.History at 0x1e15e8ca8d0>"
      ]
     },
     "execution_count": 22,
     "metadata": {},
     "output_type": "execute_result"
    }
   ],
   "source": [
    "model.fit(x_train_scaled, y_train_categorical, epochs=50)"
   ]
  },
  {
   "cell_type": "code",
   "execution_count": 25,
   "id": "b44bcc66",
   "metadata": {},
   "outputs": [
    {
     "name": "stdout",
     "output_type": "stream",
     "text": [
      "313/313 [==============================] - 2s 5ms/step\n"
     ]
    },
    {
     "data": {
      "text/plain": [
       "'cat'"
      ]
     },
     "execution_count": 25,
     "metadata": {},
     "output_type": "execute_result"
    }
   ],
   "source": [
    "classes[np.argmax(model.predict(x_test_scaled)[0])]"
   ]
  },
  {
   "cell_type": "code",
   "execution_count": 26,
   "id": "bd09b75b",
   "metadata": {},
   "outputs": [
    {
     "data": {
      "text/plain": [
       "'cat'"
      ]
     },
     "execution_count": 26,
     "metadata": {},
     "output_type": "execute_result"
    }
   ],
   "source": [
    "classes[y_test[0][0]]"
   ]
  },
  {
   "cell_type": "code",
   "execution_count": 27,
   "id": "07f91688",
   "metadata": {},
   "outputs": [],
   "source": [
    "def get_model():\n",
    "    model = keras.Sequential([\n",
    "    keras.layers.Flatten(input_shape=(32,32,3)),\n",
    "    keras.layers.Dense(3000, activation='relu'),\n",
    "    keras.layers.Dense(1000, activation='relu'),\n",
    "    keras.layers.Dense(10, activation='sigmoid')])\n",
    "\n",
    "    model.compile(\n",
    "    optimizer='SGD',\n",
    "    loss='categorical_crossentropy',\n",
    "    metrics=['accuracy'])\n",
    "    \n",
    "    return model"
   ]
  },
  {
   "cell_type": "code",
   "execution_count": 29,
   "id": "7fa19fc4",
   "metadata": {},
   "outputs": [
    {
     "name": "stdout",
     "output_type": "stream",
     "text": [
      "1563/1563 [==============================] - 51s 32ms/step - loss: 1.8143 - accuracy: 0.3540\n",
      "52.4 s ± 0 ns per loop (mean ± std. dev. of 1 run, 1 loop each)\n"
     ]
    }
   ],
   "source": [
    "    %%timeit -n1 -r1 \n",
    "    with tf.device('/CPU:0'):\n",
    "        cpu_model = get_model()\n",
    "        cpu_model.fit(x_train_scaled, y_train_categorical, epochs=1)"
   ]
  },
  {
   "cell_type": "code",
   "execution_count": null,
   "id": "575918ee",
   "metadata": {},
   "outputs": [],
   "source": []
  }
 ],
 "metadata": {
  "kernelspec": {
   "display_name": "Python 3 (ipykernel)",
   "language": "python",
   "name": "python3"
  },
  "language_info": {
   "codemirror_mode": {
    "name": "ipython",
    "version": 3
   },
   "file_extension": ".py",
   "mimetype": "text/x-python",
   "name": "python",
   "nbconvert_exporter": "python",
   "pygments_lexer": "ipython3",
   "version": "3.11.5"
  }
 },
 "nbformat": 4,
 "nbformat_minor": 5
}
